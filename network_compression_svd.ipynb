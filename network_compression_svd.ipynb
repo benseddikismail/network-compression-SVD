{
 "cells": [
  {
   "cell_type": "code",
   "execution_count": 1,
   "id": "aab9d727",
   "metadata": {},
   "outputs": [],
   "source": [
    "import warnings\n",
    "import os\n",
    "warnings.filterwarnings('ignore')\n",
    "os.environ['TF_CPP_MIN_LOG_LEVEL'] = '3' "
   ]
  },
  {
   "cell_type": "code",
   "execution_count": 2,
   "id": "d3289970",
   "metadata": {},
   "outputs": [],
   "source": [
    "import tensorflow as tf\n",
    "from tensorflow.keras import datasets, layers, models, regularizers, optimizers\n",
    "from tensorflow.keras.callbacks import Callback\n",
    "import matplotlib.pyplot as plt\n",
    "import numpy as np\n",
    "from tensorflow import keras\n",
    "import pickle\n",
    "import librosa\n",
    "import random\n",
    "import glob\n",
    "import soundfile as sf\n",
    "import pandas as pd\n",
    "from tqdm import tqdm\n",
    "from tensorflow.keras.models import Sequential\n",
    "from tensorflow.keras.layers import Input, LSTM, Dense"
   ]
  },
  {
   "cell_type": "code",
   "execution_count": 3,
   "id": "43b15722",
   "metadata": {},
   "outputs": [],
   "source": [
    "# gpus = tf.config.experimental.list_physical_devices('GPU')\n",
    "# if gpus:\n",
    "#     try:\n",
    "#         for gpu in gpus:\n",
    "#             tf.config.experimental.set_memory_growth(gpu, True)\n",
    "#     except RuntimeError as e:\n",
    "#         print(e)"
   ]
  },
  {
   "cell_type": "markdown",
   "id": "4d8a8f8a",
   "metadata": {},
   "source": [
    "## Network Compression Using SVD: Low Rank Approximation of Weight Matrices "
   ]
  },
  {
   "cell_type": "markdown",
   "id": "8617b94e",
   "metadata": {},
   "source": [
    "### Baseline Model and Accuracy"
   ]
  },
  {
   "cell_type": "code",
   "execution_count": 50,
   "id": "fc7be011",
   "metadata": {},
   "outputs": [],
   "source": [
    "(train_images, train_labels), (test_images, test_labels) = datasets.mnist.load_data()"
   ]
  },
  {
   "cell_type": "code",
   "execution_count": 51,
   "id": "c3fa5876",
   "metadata": {},
   "outputs": [],
   "source": [
    "train_images = train_images.reshape(-1, 28*28).astype('float32') / 255.0\n",
    "test_images = test_images.reshape(-1, 28*28).astype('float32') / 255.0"
   ]
  },
  {
   "cell_type": "code",
   "execution_count": 52,
   "id": "e909e767",
   "metadata": {},
   "outputs": [],
   "source": [
    "def create_baseline():\n",
    "    mnist_baseline = models.Sequential()\n",
    "\n",
    "    mnist_baseline.add(layers.Dense(1024, input_shape=(784,)))\n",
    "    mnist_baseline.add(layers.BatchNormalization())\n",
    "    mnist_baseline.add(layers.ReLU())\n",
    "    mnist_baseline.add(layers.Dropout(0.4))\n",
    "\n",
    "    for _ in range(4):\n",
    "        mnist_baseline.add(layers.Dense(1024))\n",
    "        mnist_baseline.add(layers.BatchNormalization())\n",
    "        mnist_baseline.add(layers.ReLU())\n",
    "        mnist_baseline.add(layers.Dropout(0.4))\n",
    "\n",
    "    mnist_baseline.add(layers.Dense(10, activation='softmax'))\n",
    "    \n",
    "    return mnist_baseline"
   ]
  },
  {
   "cell_type": "code",
   "execution_count": 53,
   "id": "f964696e",
   "metadata": {},
   "outputs": [],
   "source": [
    "mnist_baseline = create_baseline()\n",
    "mnist_baseline.compile(optimizer=optimizers.Adam(learning_rate=0.01), \n",
    "                       loss='sparse_categorical_crossentropy', \n",
    "                       metrics=['accuracy'])"
   ]
  },
  {
   "cell_type": "code",
   "execution_count": 54,
   "id": "20468cf1",
   "metadata": {},
   "outputs": [
    {
     "name": "stdout",
     "output_type": "stream",
     "text": [
      "Epoch 1/30\n"
     ]
    },
    {
     "name": "stderr",
     "output_type": "stream",
     "text": [
      "WARNING: All log messages before absl::InitializeLog() is called are written to STDERR\n",
      "I0000 00:00:1731267918.038130 3639726 service.cc:146] XLA service 0x70dfd0bcdcd0 initialized for platform CUDA (this does not guarantee that XLA will be used). Devices:\n",
      "I0000 00:00:1731267918.038186 3639726 service.cc:154]   StreamExecutor device (0): NVIDIA GeForce RTX 2080 Ti, Compute Capability 7.5\n",
      "I0000 00:00:1731267918.038194 3639726 service.cc:154]   StreamExecutor device (1): NVIDIA GeForce RTX 2080 Ti, Compute Capability 7.5\n",
      "I0000 00:00:1731267918.038200 3639726 service.cc:154]   StreamExecutor device (2): NVIDIA GeForce RTX 2080 Ti, Compute Capability 7.5\n",
      "I0000 00:00:1731267918.038205 3639726 service.cc:154]   StreamExecutor device (3): NVIDIA GeForce RTX 2080 Ti, Compute Capability 7.5\n"
     ]
    },
    {
     "name": "stdout",
     "output_type": "stream",
     "text": [
      "\u001b[1m 28/118\u001b[0m \u001b[32m━━━━\u001b[0m\u001b[37m━━━━━━━━━━━━━━━━\u001b[0m \u001b[1m0s\u001b[0m 6ms/step - accuracy: 0.6225 - loss: 1.3897"
     ]
    },
    {
     "name": "stderr",
     "output_type": "stream",
     "text": [
      "I0000 00:00:1731267922.451015 3639726 device_compiler.h:188] Compiled cluster using XLA!  This line is logged at most once for the lifetime of the process.\n"
     ]
    },
    {
     "name": "stdout",
     "output_type": "stream",
     "text": [
      "\u001b[1m118/118\u001b[0m \u001b[32m━━━━━━━━━━━━━━━━━━━━\u001b[0m\u001b[37m\u001b[0m \u001b[1m12s\u001b[0m 44ms/step - accuracy: 0.8079 - loss: 0.6879 - val_accuracy: 0.9141 - val_loss: 0.5177\n",
      "Epoch 2/30\n",
      "\u001b[1m118/118\u001b[0m \u001b[32m━━━━━━━━━━━━━━━━━━━━\u001b[0m\u001b[37m\u001b[0m \u001b[1m1s\u001b[0m 7ms/step - accuracy: 0.9544 - loss: 0.1524 - val_accuracy: 0.9698 - val_loss: 0.1224\n",
      "Epoch 3/30\n",
      "\u001b[1m118/118\u001b[0m \u001b[32m━━━━━━━━━━━━━━━━━━━━\u001b[0m\u001b[37m\u001b[0m \u001b[1m1s\u001b[0m 7ms/step - accuracy: 0.9621 - loss: 0.1234 - val_accuracy: 0.9579 - val_loss: 0.1618\n",
      "Epoch 4/30\n",
      "\u001b[1m118/118\u001b[0m \u001b[32m━━━━━━━━━━━━━━━━━━━━\u001b[0m\u001b[37m\u001b[0m \u001b[1m1s\u001b[0m 7ms/step - accuracy: 0.9693 - loss: 0.1055 - val_accuracy: 0.9765 - val_loss: 0.0902\n",
      "Epoch 5/30\n",
      "\u001b[1m118/118\u001b[0m \u001b[32m━━━━━━━━━━━━━━━━━━━━\u001b[0m\u001b[37m\u001b[0m \u001b[1m1s\u001b[0m 7ms/step - accuracy: 0.9749 - loss: 0.0837 - val_accuracy: 0.9780 - val_loss: 0.0886\n",
      "Epoch 6/30\n",
      "\u001b[1m118/118\u001b[0m \u001b[32m━━━━━━━━━━━━━━━━━━━━\u001b[0m\u001b[37m\u001b[0m \u001b[1m1s\u001b[0m 7ms/step - accuracy: 0.9760 - loss: 0.0780 - val_accuracy: 0.9777 - val_loss: 0.0829\n",
      "Epoch 7/30\n",
      "\u001b[1m118/118\u001b[0m \u001b[32m━━━━━━━━━━━━━━━━━━━━\u001b[0m\u001b[37m\u001b[0m \u001b[1m1s\u001b[0m 7ms/step - accuracy: 0.9793 - loss: 0.0685 - val_accuracy: 0.9802 - val_loss: 0.0692\n",
      "Epoch 8/30\n",
      "\u001b[1m118/118\u001b[0m \u001b[32m━━━━━━━━━━━━━━━━━━━━\u001b[0m\u001b[37m\u001b[0m \u001b[1m1s\u001b[0m 6ms/step - accuracy: 0.9806 - loss: 0.0626 - val_accuracy: 0.9809 - val_loss: 0.0650\n",
      "Epoch 9/30\n",
      "\u001b[1m118/118\u001b[0m \u001b[32m━━━━━━━━━━━━━━━━━━━━\u001b[0m\u001b[37m\u001b[0m \u001b[1m1s\u001b[0m 7ms/step - accuracy: 0.9817 - loss: 0.0582 - val_accuracy: 0.9822 - val_loss: 0.0676\n",
      "Epoch 10/30\n",
      "\u001b[1m118/118\u001b[0m \u001b[32m━━━━━━━━━━━━━━━━━━━━\u001b[0m\u001b[37m\u001b[0m \u001b[1m1s\u001b[0m 7ms/step - accuracy: 0.9850 - loss: 0.0500 - val_accuracy: 0.9818 - val_loss: 0.0666\n",
      "Epoch 11/30\n",
      "\u001b[1m118/118\u001b[0m \u001b[32m━━━━━━━━━━━━━━━━━━━━\u001b[0m\u001b[37m\u001b[0m \u001b[1m1s\u001b[0m 7ms/step - accuracy: 0.9851 - loss: 0.0491 - val_accuracy: 0.9801 - val_loss: 0.0777\n",
      "Epoch 12/30\n",
      "\u001b[1m118/118\u001b[0m \u001b[32m━━━━━━━━━━━━━━━━━━━━\u001b[0m\u001b[37m\u001b[0m \u001b[1m1s\u001b[0m 7ms/step - accuracy: 0.9876 - loss: 0.0427 - val_accuracy: 0.9835 - val_loss: 0.0603\n",
      "Epoch 13/30\n",
      "\u001b[1m118/118\u001b[0m \u001b[32m━━━━━━━━━━━━━━━━━━━━\u001b[0m\u001b[37m\u001b[0m \u001b[1m1s\u001b[0m 7ms/step - accuracy: 0.9876 - loss: 0.0390 - val_accuracy: 0.9813 - val_loss: 0.0716\n",
      "Epoch 14/30\n",
      "\u001b[1m118/118\u001b[0m \u001b[32m━━━━━━━━━━━━━━━━━━━━\u001b[0m\u001b[37m\u001b[0m \u001b[1m1s\u001b[0m 6ms/step - accuracy: 0.9866 - loss: 0.0427 - val_accuracy: 0.9815 - val_loss: 0.0742\n",
      "Epoch 15/30\n",
      "\u001b[1m118/118\u001b[0m \u001b[32m━━━━━━━━━━━━━━━━━━━━\u001b[0m\u001b[37m\u001b[0m \u001b[1m1s\u001b[0m 7ms/step - accuracy: 0.9882 - loss: 0.0393 - val_accuracy: 0.9804 - val_loss: 0.0676\n",
      "Epoch 16/30\n",
      "\u001b[1m118/118\u001b[0m \u001b[32m━━━━━━━━━━━━━━━━━━━━\u001b[0m\u001b[37m\u001b[0m \u001b[1m1s\u001b[0m 7ms/step - accuracy: 0.9898 - loss: 0.0337 - val_accuracy: 0.9800 - val_loss: 0.0795\n",
      "Epoch 17/30\n",
      "\u001b[1m118/118\u001b[0m \u001b[32m━━━━━━━━━━━━━━━━━━━━\u001b[0m\u001b[37m\u001b[0m \u001b[1m1s\u001b[0m 7ms/step - accuracy: 0.9888 - loss: 0.0376 - val_accuracy: 0.9857 - val_loss: 0.0604\n",
      "Epoch 18/30\n",
      "\u001b[1m118/118\u001b[0m \u001b[32m━━━━━━━━━━━━━━━━━━━━\u001b[0m\u001b[37m\u001b[0m \u001b[1m1s\u001b[0m 7ms/step - accuracy: 0.9889 - loss: 0.0356 - val_accuracy: 0.9819 - val_loss: 0.0735\n",
      "Epoch 19/30\n",
      "\u001b[1m118/118\u001b[0m \u001b[32m━━━━━━━━━━━━━━━━━━━━\u001b[0m\u001b[37m\u001b[0m \u001b[1m1s\u001b[0m 7ms/step - accuracy: 0.9898 - loss: 0.0317 - val_accuracy: 0.9850 - val_loss: 0.0686\n",
      "Epoch 20/30\n",
      "\u001b[1m118/118\u001b[0m \u001b[32m━━━━━━━━━━━━━━━━━━━━\u001b[0m\u001b[37m\u001b[0m \u001b[1m1s\u001b[0m 6ms/step - accuracy: 0.9903 - loss: 0.0309 - val_accuracy: 0.9835 - val_loss: 0.0713\n",
      "Epoch 21/30\n",
      "\u001b[1m118/118\u001b[0m \u001b[32m━━━━━━━━━━━━━━━━━━━━\u001b[0m\u001b[37m\u001b[0m \u001b[1m1s\u001b[0m 6ms/step - accuracy: 0.9916 - loss: 0.0265 - val_accuracy: 0.9838 - val_loss: 0.0601\n",
      "Epoch 22/30\n",
      "\u001b[1m118/118\u001b[0m \u001b[32m━━━━━━━━━━━━━━━━━━━━\u001b[0m\u001b[37m\u001b[0m \u001b[1m1s\u001b[0m 7ms/step - accuracy: 0.9917 - loss: 0.0275 - val_accuracy: 0.9837 - val_loss: 0.0671\n",
      "Epoch 23/30\n",
      "\u001b[1m118/118\u001b[0m \u001b[32m━━━━━━━━━━━━━━━━━━━━\u001b[0m\u001b[37m\u001b[0m \u001b[1m1s\u001b[0m 7ms/step - accuracy: 0.9920 - loss: 0.0251 - val_accuracy: 0.9819 - val_loss: 0.0695\n",
      "Epoch 24/30\n",
      "\u001b[1m118/118\u001b[0m \u001b[32m━━━━━━━━━━━━━━━━━━━━\u001b[0m\u001b[37m\u001b[0m \u001b[1m1s\u001b[0m 7ms/step - accuracy: 0.9899 - loss: 0.0322 - val_accuracy: 0.9828 - val_loss: 0.0832\n",
      "Epoch 25/30\n",
      "\u001b[1m118/118\u001b[0m \u001b[32m━━━━━━━━━━━━━━━━━━━━\u001b[0m\u001b[37m\u001b[0m \u001b[1m1s\u001b[0m 6ms/step - accuracy: 0.9902 - loss: 0.0342 - val_accuracy: 0.9839 - val_loss: 0.0680\n",
      "Epoch 26/30\n",
      "\u001b[1m118/118\u001b[0m \u001b[32m━━━━━━━━━━━━━━━━━━━━\u001b[0m\u001b[37m\u001b[0m \u001b[1m1s\u001b[0m 7ms/step - accuracy: 0.9919 - loss: 0.0269 - val_accuracy: 0.9858 - val_loss: 0.0611\n",
      "Epoch 27/30\n",
      "\u001b[1m118/118\u001b[0m \u001b[32m━━━━━━━━━━━━━━━━━━━━\u001b[0m\u001b[37m\u001b[0m \u001b[1m1s\u001b[0m 6ms/step - accuracy: 0.9910 - loss: 0.0285 - val_accuracy: 0.9852 - val_loss: 0.0739\n",
      "Epoch 28/30\n",
      "\u001b[1m118/118\u001b[0m \u001b[32m━━━━━━━━━━━━━━━━━━━━\u001b[0m\u001b[37m\u001b[0m \u001b[1m1s\u001b[0m 7ms/step - accuracy: 0.9913 - loss: 0.0264 - val_accuracy: 0.9813 - val_loss: 0.0890\n",
      "Epoch 29/30\n",
      "\u001b[1m118/118\u001b[0m \u001b[32m━━━━━━━━━━━━━━━━━━━━\u001b[0m\u001b[37m\u001b[0m \u001b[1m1s\u001b[0m 7ms/step - accuracy: 0.9886 - loss: 0.0395 - val_accuracy: 0.9832 - val_loss: 0.0745\n",
      "Epoch 30/30\n",
      "\u001b[1m118/118\u001b[0m \u001b[32m━━━━━━━━━━━━━━━━━━━━\u001b[0m\u001b[37m\u001b[0m \u001b[1m1s\u001b[0m 6ms/step - accuracy: 0.9908 - loss: 0.0292 - val_accuracy: 0.9855 - val_loss: 0.0664\n"
     ]
    }
   ],
   "source": [
    "history_mnist_baseline = mnist_baseline.fit(train_images, train_labels,\n",
    "                                            epochs=30,\n",
    "                                            batch_size=512,\n",
    "                                            validation_data=(test_images, test_labels))"
   ]
  },
  {
   "cell_type": "code",
   "execution_count": 55,
   "id": "69e14926",
   "metadata": {},
   "outputs": [
    {
     "data": {
      "image/png": "[encoded data removed]",
      "text/plain": [
       "<Figure size 720x432 with 1 Axes>"
      ]
     },
     "metadata": {
      "needs_background": "light"
     },
     "output_type": "display_data"
    },
    {
     "data": {
      "image/png": "[encoded data removed]",
      "text/plain": [
       "<Figure size 720x432 with 1 Axes>"
      ]
     },
     "metadata": {
      "needs_background": "light"
     },
     "output_type": "display_data"
    }
   ],
   "source": [
    "plt.figure(figsize=(10, 6))\n",
    "plt.plot(history_mnist_baseline.history['accuracy'])\n",
    "plt.plot(history_mnist_baseline.history['val_accuracy'])\n",
    "plt.title('Model accuracy')\n",
    "plt.ylabel('Accuracy')\n",
    "plt.xlabel('Epoch')\n",
    "plt.legend(['Train', 'Validation'], loc = 'upper left')\n",
    "plt.show()\n",
    "\n",
    "plt.figure(figsize=(10, 6))\n",
    "plt.plot(history_mnist_baseline.history['loss'])\n",
    "plt.plot(history_mnist_baseline.history['val_loss'])\n",
    "plt.title('Model loss')\n",
    "plt.ylabel('Loss')\n",
    "plt.xlabel('Epoch')\n",
    "plt.legend(['Train', 'Validation'], loc = 'upper right')\n",
    "plt.show()"
   ]
  },
  {
   "cell_type": "markdown",
   "id": "3bed656b",
   "metadata": {},
   "source": [
    "### SVD Compressed Models"
   ]
  },
  {
   "cell_type": "code",
   "execution_count": 56,
   "id": "739ef46f",
   "metadata": {},
   "outputs": [],
   "source": [
    "def apply_svd_compression(layer_weights, D):\n",
    "    S, U, V = tf.linalg.svd(layer_weights, full_matrices=False)\n",
    "    U_reduced = U[:, :D]\n",
    "    S_reduced = tf.linalg.diag(S[:D])\n",
    "    V_reduced = V[:, :D]\n",
    "    W_compressed = tf.matmul(U_reduced, tf.matmul(S_reduced, tf.transpose(V_reduced)))\n",
    "    return W_compressed"
   ]
  },
  {
   "cell_type": "code",
   "execution_count": 57,
   "id": "6edbfbc6",
   "metadata": {},
   "outputs": [],
   "source": [
    "def calculate_compression_info(original_model, D):\n",
    "    \"\"\"Calculate number of parameters and compression ratio for given D.\"\"\"\n",
    "    original_params = 0\n",
    "    compressed_params = 0\n",
    "    \n",
    "    for l, layer in enumerate(original_model.layers):\n",
    "        if isinstance(layer, tf.keras.layers.Dense) and l < len(original_model.layers) - 1:\n",
    "            W = layer.get_weights()[0]\n",
    "            b = layer.get_weights()[1]\n",
    "            m, n = W.shape\n",
    "            \n",
    "            # original parameters (weights + biases)\n",
    "            original_params += m * n + len(b)\n",
    "            \n",
    "            # first layer (l=0), D_full = 784; for others, D_full = 1024\n",
    "            D_full = 784 if l == 0 else 1024\n",
    "            \n",
    "            # D cannot exceed D_full or matrix dimensions\n",
    "            effective_D = min(D, D_full, m, n)\n",
    "            \n",
    "            # SVD parameters: U(m×D) + S(D) + V(n×D) + original biases\n",
    "            compressed_params += m * effective_D + effective_D + n * effective_D + len(b)\n",
    "    \n",
    "    return original_params, compressed_params"
   ]
  },
  {
   "cell_type": "code",
   "execution_count": 58,
   "id": "05951bf5",
   "metadata": {},
   "outputs": [],
   "source": [
    "def evaluate_compression(model, test_images, test_labels, D_values):\n",
    "    \"\"\"Evaluate model for different compression levels\"\"\"\n",
    "    results = {'D': [], 'accuracy': [], 'original_params': [], 'compressed_params': []}\n",
    "    \n",
    "    # evaluation model\n",
    "    eval_model = create_baseline()\n",
    "    eval_model.compile(optimizer=optimizers.Adam(learning_rate=0.01), \n",
    "                      loss='sparse_categorical_crossentropy', \n",
    "                      metrics=['accuracy'])\n",
    "    \n",
    "    # baseline accuracy with original weights\n",
    "    baseline_accuracy = model.evaluate(test_images, test_labels, verbose=0)[1]\n",
    "    original_params, _ = calculate_compression_info(model, 1024)\n",
    "    \n",
    "    print(f\"\\nBaseline accuracy: {baseline_accuracy:.4f}, Original Parameters: {original_params}\")   \n",
    "    \n",
    "    original_weights = [layer.get_weights() for layer in model.layers]\n",
    "    \n",
    "    for D in D_values:\n",
    "        print(f\"\\nCompressing with D={D}\")\n",
    "        \n",
    "        for i, layer in enumerate(eval_model.layers):\n",
    "            if isinstance(layer, tf.keras.layers.Dense):\n",
    "                weights = original_weights[i]\n",
    "                \n",
    "                # D_full based on layer index (input layer vs hidden layers)\n",
    "                D_full = 784 if i == 0 else 1024\n",
    "                \n",
    "                if i < len(model.layers) - 1:  # skip last layer\n",
    "                    effective_D = min(D, D_full)\n",
    "                    compressed_weights = apply_svd_compression(weights[0], effective_D)\n",
    "                    layer.set_weights([compressed_weights, weights[1]])\n",
    "                else:\n",
    "                    layer.set_weights(weights)\n",
    "            else:\n",
    "                # keep original weights for non-Dense layers\n",
    "                layer.set_weights(original_weights[i])\n",
    "        \n",
    "        accuracy = eval_model.evaluate(test_images, test_labels, verbose=0)[1]\n",
    "        _, compressed_params = calculate_compression_info(eval_model, D)\n",
    "        \n",
    "        results['D'].append(D)\n",
    "        results['accuracy'].append(accuracy)\n",
    "        results['original_params'].append(original_params)\n",
    "        results['compressed_params'].append(compressed_params)\n",
    "        \n",
    "        print(f\"Test accuracy: {accuracy:.4f}, Compressed Parameters: {compressed_params}, Compression Ratio: {original_params / compressed_params:.2f}x\")\n",
    "    \n",
    "    plt.figure(figsize=(10, 6))\n",
    "    plt.semilogx(results['D'], results['accuracy'], 'bo-')\n",
    "    plt.axhline(y=baseline_accuracy, color='r', linestyle='--', label='Baseline')\n",
    "    plt.xlabel('D (number of singular values)')\n",
    "    plt.ylabel('Test Accuracy')\n",
    "    plt.title('Accuracy vs Compression Level')\n",
    "    plt.grid(True)\n",
    "    plt.legend()\n",
    "    plt.tight_layout()\n",
    "    plt.show()\n",
    "    \n",
    "    plt.figure(figsize=(10, 6))\n",
    "    plt.plot(results['D'], results['compressed_params'], 'bo-', label='Compressed Parameters')\n",
    "    plt.axhline(y=original_params, color='r', linestyle='--', label='Baseline Parameters')\n",
    "    plt.xscale('log')\n",
    "    plt.xlabel('D (number of singular values)')\n",
    "    plt.ylabel('Number of Parameters')\n",
    "    plt.title('Compressed Parameters vs Baseline Parameters')\n",
    "    plt.legend()\n",
    "    plt.grid(True)\n",
    "    plt.tight_layout()\n",
    "    plt.show()\n",
    "\n",
    "    return results"
   ]
  },
  {
   "cell_type": "markdown",
   "id": "60c8fdd9",
   "metadata": {},
   "source": [
    "### Test Acccuracies of the SVDed Models and Comparison of the Number of Parameters "
   ]
  },
  {
   "cell_type": "code",
   "execution_count": 59,
   "id": "8a9fd1b8",
   "metadata": {},
   "outputs": [
    {
     "name": "stdout",
     "output_type": "stream",
     "text": [
      "\n",
      "Baseline accuracy: 0.9855, Original Parameters: 5002240\n",
      "\n",
      "Compressing with D=10\n",
      "Test accuracy: 0.6786, Compressed Parameters: 105170, Compression Ratio: 47.56x\n",
      "\n",
      "Compressing with D=20\n",
      "Test accuracy: 0.9386, Compressed Parameters: 205220, Compression Ratio: 24.38x\n",
      "\n",
      "Compressing with D=50\n",
      "Test accuracy: 0.9800, Compressed Parameters: 505370, Compression Ratio: 9.90x\n",
      "\n",
      "Compressing with D=100\n",
      "Test accuracy: 0.9842, Compressed Parameters: 1005620, Compression Ratio: 4.97x\n",
      "\n",
      "Compressing with D=200\n",
      "Test accuracy: 0.9851, Compressed Parameters: 2006120, Compression Ratio: 2.49x\n",
      "\n",
      "Compressing with D=1024\n",
      "Test accuracy: 0.9855, Compressed Parameters: 9816080, Compression Ratio: 0.51x\n"
     ]
    },
    {
     "data": {
      "image/png": "[encoded data removed]",
      "text/plain": [
       "<Figure size 720x432 with 1 Axes>"
      ]
     },
     "metadata": {
      "needs_background": "light"
     },
     "output_type": "display_data"
    },
    {
     "data": {
      "image/png": "[encoded data removed]",
      "text/plain": [
       "<Figure size 720x432 with 1 Axes>"
      ]
     },
     "metadata": {
      "needs_background": "light"
     },
     "output_type": "display_data"
    }
   ],
   "source": [
    "D_values = [10, 20, 50, 100, 200, 1024]\n",
    "results = evaluate_compression(mnist_baseline, test_images, test_labels, D_values)"
   ]
  },
  {
   "cell_type": "code",
   "execution_count": 60,
   "id": "df461dfd",
   "metadata": {},
   "outputs": [
    {
     "name": "stdout",
     "output_type": "stream",
     "text": [
      "      D  accuracy  original_params  compressed_params\n",
      "5  1024    0.9855          5002240            9816080\n",
      "4   200    0.9851          5002240            2006120\n",
      "3   100    0.9842          5002240            1005620\n",
      "2    50    0.9800          5002240             505370\n",
      "1    20    0.9386          5002240             205220\n",
      "0    10    0.6786          5002240             105170\n"
     ]
    }
   ],
   "source": [
    "df_results = pd.DataFrame(results)\n",
    "df_results = df_results.sort_values(by='accuracy', ascending=False)\n",
    "print(df_results)"
   ]
  },
  {
   "cell_type": "markdown",
   "id": "4ce6dead",
   "metadata": {},
   "source": [
    "- The first plot shows the test accuracies of the six SVDed versions benchmarked against the baseline performance.\n",
    "- The second graph reports the number of parameters  of the SVDed networks compared to the number of parameters of the baseline. "
   ]
  },
  {
   "cell_type": "markdown",
   "id": "93e761d5",
   "metadata": {},
   "source": [
    "## Network Compression Using SVD: Estimating Weight Matrices Using their Factor Matrices"
   ]
  },
  {
   "cell_type": "markdown",
   "id": "987dc0d2",
   "metadata": {},
   "source": [
    "### Definition and Initialization of the New SVD Model"
   ]
  },
  {
   "cell_type": "code",
   "execution_count": 81,
   "id": "65e1bfa9",
   "metadata": {},
   "outputs": [],
   "source": [
    "class FactorizedDense(layers.Layer):\n",
    "    def __init__(self, units, rank=20, **kwargs):\n",
    "        super().__init__(**kwargs)\n",
    "        self.units = units\n",
    "        self.rank = rank\n",
    "\n",
    "    def build(self, input_shape):\n",
    "        input_dim = input_shape[-1]\n",
    "        \n",
    "        # Initialize U and V matrices\n",
    "        self.U = self.add_weight(\n",
    "            name='U',\n",
    "            shape=(input_dim, self.rank),\n",
    "            initializer='glorot_uniform',\n",
    "            trainable=True\n",
    "        )\n",
    "        \n",
    "        self.V = self.add_weight(\n",
    "            name='V',\n",
    "            shape=(self.units, self.rank),\n",
    "            initializer='glorot_uniform',\n",
    "            trainable=True\n",
    "        )\n",
    "        \n",
    "        self.bias = self.add_weight(\n",
    "            name='bias',\n",
    "            shape=(self.units,),\n",
    "            initializer='zeros',\n",
    "            trainable=True\n",
    "        )\n",
    "\n",
    "    def call(self, inputs):\n",
    "        # W = UV^T\n",
    "        reconstructed_weights = tf.matmul(self.U, tf.transpose(self.V))\n",
    "        return tf.matmul(inputs, reconstructed_weights) + self.bias\n",
    "\n",
    "    def get_config(self):\n",
    "        config = super().get_config()\n",
    "        config.update({\n",
    "            'units': self.units,\n",
    "            'rank': self.rank\n",
    "        })\n",
    "        return config"
   ]
  },
  {
   "cell_type": "code",
   "execution_count": 74,
   "id": "7fd780a6",
   "metadata": {},
   "outputs": [],
   "source": [
    "def create_factorized_network():\n",
    "    model = models.Sequential()\n",
    "    \n",
    "    model.add(FactorizedDense(1024, rank=20, input_shape=(784,)))\n",
    "    model.add(layers.BatchNormalization())\n",
    "    model.add(layers.ReLU())\n",
    "    model.add(layers.Dropout(0.4))\n",
    "    \n",
    "    for _ in range(4):\n",
    "        model.add(FactorizedDense(1024, rank=20))\n",
    "        model.add(layers.BatchNormalization())\n",
    "        model.add(layers.ReLU())\n",
    "        model.add(layers.Dropout(0.4))\n",
    "    \n",
    "    model.add(layers.Dense(10, activation='softmax'))\n",
    "    return model"
   ]
  },
  {
   "cell_type": "code",
   "execution_count": 82,
   "id": "ad6c46d1",
   "metadata": {},
   "outputs": [],
   "source": [
    "def initialize_from_svd(baseline_model, factorized_model, D=20):\n",
    "    baseline_weights = [layer.get_weights() for layer in baseline_model.layers]\n",
    "    factorized_idx = 0\n",
    "    \n",
    "    for i, layer in enumerate(baseline_model.layers):\n",
    "        if isinstance(layer, layers.Dense) and i < len(baseline_model.layers) - 1:\n",
    "            W = baseline_weights[i][0]\n",
    "            b = baseline_weights[i][1]\n",
    "            \n",
    "            # SVD\n",
    "            S, U, V = tf.linalg.svd(W, full_matrices=False)\n",
    "            \n",
    "            U_init = U[:, :D]  # Shape: [input_dim, D]\n",
    "            V_init = tf.matmul(V[:, :D], tf.linalg.diag(S[:D]))  # Shape: [output_dim, D]\n",
    "            \n",
    "            # corresponding factorized layer\n",
    "            factorized_layer = factorized_model.layers[factorized_idx * 4]\n",
    "            \n",
    "            # weights with correct shapes\n",
    "            factorized_layer.U.assign(U_init)\n",
    "            factorized_layer.V.assign(V_init)\n",
    "            factorized_layer.bias.assign(b)\n",
    "            \n",
    "            factorized_idx += 1\n",
    "        elif i == len(baseline_model.layers) - 1:\n",
    "            # output layer weights\n",
    "            factorized_model.layers[-1].set_weights(baseline_weights[i])"
   ]
  },
  {
   "cell_type": "code",
   "execution_count": 83,
   "id": "c20c0f22",
   "metadata": {},
   "outputs": [
    {
     "name": "stdout",
     "output_type": "stream",
     "text": [
      "Epoch 1/20\n",
      "\u001b[1m118/118\u001b[0m \u001b[32m━━━━━━━━━━━━━━━━━━━━\u001b[0m\u001b[37m\u001b[0m \u001b[1m15s\u001b[0m 68ms/step - accuracy: 0.4816 - loss: 2.4877 - val_accuracy: 0.9468 - val_loss: 0.2297\n",
      "Epoch 2/20\n",
      "\u001b[1m118/118\u001b[0m \u001b[32m━━━━━━━━━━━━━━━━━━━━\u001b[0m\u001b[37m\u001b[0m \u001b[1m10s\u001b[0m 12ms/step - accuracy: 0.9352 - loss: 0.2433 - val_accuracy: 0.9639 - val_loss: 0.1498\n",
      "Epoch 3/20\n",
      "\u001b[1m118/118\u001b[0m \u001b[32m━━━━━━━━━━━━━━━━━━━━\u001b[0m\u001b[37m\u001b[0m \u001b[1m1s\u001b[0m 10ms/step - accuracy: 0.9542 - loss: 0.1796 - val_accuracy: 0.9711 - val_loss: 0.1266\n",
      "Epoch 4/20\n",
      "\u001b[1m118/118\u001b[0m \u001b[32m━━━━━━━━━━━━━━━━━━━━\u001b[0m\u001b[37m\u001b[0m \u001b[1m1s\u001b[0m 11ms/step - accuracy: 0.9595 - loss: 0.1584 - val_accuracy: 0.9740 - val_loss: 0.1183\n",
      "Epoch 5/20\n",
      "\u001b[1m118/118\u001b[0m \u001b[32m━━━━━━━━━━━━━━━━━━━━\u001b[0m\u001b[37m\u001b[0m \u001b[1m1s\u001b[0m 11ms/step - accuracy: 0.9653 - loss: 0.1407 - val_accuracy: 0.9753 - val_loss: 0.1122\n",
      "Epoch 6/20\n",
      "\u001b[1m118/118\u001b[0m \u001b[32m━━━━━━━━━━━━━━━━━━━━\u001b[0m\u001b[37m\u001b[0m \u001b[1m1s\u001b[0m 11ms/step - accuracy: 0.9660 - loss: 0.1321 - val_accuracy: 0.9762 - val_loss: 0.1065\n",
      "Epoch 7/20\n",
      "\u001b[1m118/118\u001b[0m \u001b[32m━━━━━━━━━━━━━━━━━━━━\u001b[0m\u001b[37m\u001b[0m \u001b[1m1s\u001b[0m 11ms/step - accuracy: 0.9657 - loss: 0.1326 - val_accuracy: 0.9767 - val_loss: 0.1006\n",
      "Epoch 8/20\n",
      "\u001b[1m118/118\u001b[0m \u001b[32m━━━━━━━━━━━━━━━━━━━━\u001b[0m\u001b[37m\u001b[0m \u001b[1m1s\u001b[0m 12ms/step - accuracy: 0.9693 - loss: 0.1186 - val_accuracy: 0.9757 - val_loss: 0.1025\n",
      "Epoch 9/20\n",
      "\u001b[1m118/118\u001b[0m \u001b[32m━━━━━━━━━━━━━━━━━━━━\u001b[0m\u001b[37m\u001b[0m \u001b[1m1s\u001b[0m 10ms/step - accuracy: 0.9705 - loss: 0.1113 - val_accuracy: 0.9764 - val_loss: 0.0977\n",
      "Epoch 10/20\n",
      "\u001b[1m118/118\u001b[0m \u001b[32m━━━━━━━━━━━━━━━━━━━━\u001b[0m\u001b[37m\u001b[0m \u001b[1m1s\u001b[0m 10ms/step - accuracy: 0.9711 - loss: 0.1096 - val_accuracy: 0.9779 - val_loss: 0.0947\n",
      "Epoch 11/20\n",
      "\u001b[1m118/118\u001b[0m \u001b[32m━━━━━━━━━━━━━━━━━━━━\u001b[0m\u001b[37m\u001b[0m \u001b[1m1s\u001b[0m 11ms/step - accuracy: 0.9720 - loss: 0.1036 - val_accuracy: 0.9782 - val_loss: 0.0949\n",
      "Epoch 12/20\n",
      "\u001b[1m118/118\u001b[0m \u001b[32m━━━━━━━━━━━━━━━━━━━━\u001b[0m\u001b[37m\u001b[0m \u001b[1m2s\u001b[0m 12ms/step - accuracy: 0.9729 - loss: 0.1020 - val_accuracy: 0.9783 - val_loss: 0.0902\n",
      "Epoch 13/20\n",
      "\u001b[1m118/118\u001b[0m \u001b[32m━━━━━━━━━━━━━━━━━━━━\u001b[0m\u001b[37m\u001b[0m \u001b[1m1s\u001b[0m 9ms/step - accuracy: 0.9729 - loss: 0.0992 - val_accuracy: 0.9778 - val_loss: 0.0899\n",
      "Epoch 14/20\n",
      "\u001b[1m118/118\u001b[0m \u001b[32m━━━━━━━━━━━━━━━━━━━━\u001b[0m\u001b[37m\u001b[0m \u001b[1m2s\u001b[0m 12ms/step - accuracy: 0.9746 - loss: 0.0901 - val_accuracy: 0.9785 - val_loss: 0.0892\n",
      "Epoch 15/20\n",
      "\u001b[1m118/118\u001b[0m \u001b[32m━━━━━━━━━━━━━━━━━━━━\u001b[0m\u001b[37m\u001b[0m \u001b[1m1s\u001b[0m 11ms/step - accuracy: 0.9761 - loss: 0.0883 - val_accuracy: 0.9782 - val_loss: 0.0875\n",
      "Epoch 16/20\n",
      "\u001b[1m118/118\u001b[0m \u001b[32m━━━━━━━━━━━━━━━━━━━━\u001b[0m\u001b[37m\u001b[0m \u001b[1m1s\u001b[0m 10ms/step - accuracy: 0.9758 - loss: 0.0897 - val_accuracy: 0.9785 - val_loss: 0.0854\n",
      "Epoch 17/20\n",
      "\u001b[1m118/118\u001b[0m \u001b[32m━━━━━━━━━━━━━━━━━━━━\u001b[0m\u001b[37m\u001b[0m \u001b[1m3s\u001b[0m 11ms/step - accuracy: 0.9755 - loss: 0.0891 - val_accuracy: 0.9787 - val_loss: 0.0849\n",
      "Epoch 18/20\n",
      "\u001b[1m118/118\u001b[0m \u001b[32m━━━━━━━━━━━━━━━━━━━━\u001b[0m\u001b[37m\u001b[0m \u001b[1m1s\u001b[0m 10ms/step - accuracy: 0.9773 - loss: 0.0847 - val_accuracy: 0.9795 - val_loss: 0.0814\n",
      "Epoch 19/20\n",
      "\u001b[1m118/118\u001b[0m \u001b[32m━━━━━━━━━━━━━━━━━━━━\u001b[0m\u001b[37m\u001b[0m \u001b[1m1s\u001b[0m 11ms/step - accuracy: 0.9767 - loss: 0.0846 - val_accuracy: 0.9797 - val_loss: 0.0826\n",
      "Epoch 20/20\n",
      "\u001b[1m118/118\u001b[0m \u001b[32m━━━━━━━━━━━━━━━━━━━━\u001b[0m\u001b[37m\u001b[0m \u001b[1m3s\u001b[0m 11ms/step - accuracy: 0.9756 - loss: 0.0841 - val_accuracy: 0.9799 - val_loss: 0.0820\n",
      "Test accuracy: 0.9799\n"
     ]
    }
   ],
   "source": [
    "# Create and train the factorized model\n",
    "factorized_model = create_factorized_network()\n",
    "initialize_from_svd(mnist_baseline, factorized_model, D=20)\n",
    "\n",
    "# Compile with a smaller learning rate\n",
    "factorized_model.compile(\n",
    "    optimizer=optimizers.Adam(learning_rate=0.0001),  # Reduced learning rate\n",
    "    loss='sparse_categorical_crossentropy',\n",
    "    metrics=['accuracy']\n",
    ")\n",
    "\n",
    "# Fine-tune the network\n",
    "history_factorized = factorized_model.fit(\n",
    "                    train_images, train_labels,\n",
    "                    epochs=20,\n",
    "                    batch_size=512,\n",
    "                    validation_data=(test_images, test_labels)\n",
    ")\n",
    "\n",
    "# Evaluate final performance\n",
    "test_loss, test_accuracy = factorized_model.evaluate(test_images, test_labels, verbose=0)\n",
    "print(f\"Test accuracy: {test_accuracy:.4f}\")"
   ]
  },
  {
   "cell_type": "markdown",
   "id": "b9eb8ce3",
   "metadata": {},
   "source": [
    "- Initializing the factorized weights with pre-trained values allows the network to start from a knowledgeable state, rather than random weights, leading to faster convergence and better accuracy.\n"
   ]
  },
  {
   "cell_type": "markdown",
   "id": "11e8773a",
   "metadata": {},
   "source": [
    "### Test Accuracy"
   ]
  },
  {
   "cell_type": "code",
   "execution_count": 84,
   "id": "cbea3bc5",
   "metadata": {},
   "outputs": [
    {
     "data": {
      "image/png": "[encoded data removed]",
      "text/plain": [
       "<Figure size 720x432 with 1 Axes>"
      ]
     },
     "metadata": {
      "needs_background": "light"
     },
     "output_type": "display_data"
    }
   ],
   "source": [
    "plt.figure(figsize=(10, 6))\n",
    "plt.plot(history_factorized.history['val_accuracy'], color='b')\n",
    "plt.title('Test Accuracy Over Epochs')\n",
    "plt.xlabel('Epoch')\n",
    "plt.ylabel('Test Accuracy')\n",
    "plt.grid(True)\n",
    "plt.show()"
   ]
  },
  {
   "cell_type": "markdown",
   "id": "27714e62",
   "metadata": {},
   "source": [
    "## Network Compression Using SVD: SVD at Every Iteration"
   ]
  },
  {
   "cell_type": "markdown",
   "id": "ffdd3896",
   "metadata": {},
   "source": [
    "### SVD Model"
   ]
  },
  {
   "cell_type": "code",
   "execution_count": 37,
   "id": "e6c45bfd",
   "metadata": {},
   "outputs": [],
   "source": [
    "class SVDDenseLayer(layers.Layer):\n",
    "    def __init__(self, units, rank=20, **kwargs):\n",
    "        super().__init__(**kwargs)\n",
    "        self.units = units\n",
    "        self.rank = rank\n",
    "\n",
    "    def build(self, input_shape):\n",
    "        input_dim = input_shape[-1]\n",
    "        self.kernel = self.add_weight(\n",
    "            name='kernel',\n",
    "            shape=(input_dim, self.units),\n",
    "            initializer='glorot_uniform',\n",
    "            trainable=True\n",
    "        )\n",
    "        self.bias = self.add_weight(\n",
    "            name='bias',\n",
    "            shape=(self.units,),\n",
    "            initializer='zeros',\n",
    "            trainable=True\n",
    "        )\n",
    "\n",
    "    @tf.function\n",
    "    def call(self, inputs):\n",
    "        # Perform SVD at every iteration (forward pass)\n",
    "        s, u, v = tf.linalg.svd(self.kernel, full_matrices=False)\n",
    "        \n",
    "        # Take only top D singular values/vectors\n",
    "        u_reduced = u[:, :self.rank]\n",
    "        s_reduced = s[:self.rank]\n",
    "        v_reduced = v[:, :self.rank]\n",
    "        \n",
    "        # Reconstruct compressed weight matrix\n",
    "        kernel_compressed = tf.matmul(\n",
    "            u_reduced * tf.expand_dims(s_reduced, 0),\n",
    "            tf.transpose(v_reduced)\n",
    "        )\n",
    "        \n",
    "        return tf.matmul(inputs, kernel_compressed) + self.bias"
   ]
  },
  {
   "cell_type": "code",
   "execution_count": 38,
   "id": "1d970264",
   "metadata": {},
   "outputs": [],
   "source": [
    "def create_svd_network():\n",
    "    model = models.Sequential([\n",
    "        layers.Input(shape=(784,)),\n",
    "        SVDDenseLayer(1024),\n",
    "        layers.BatchNormalization(),\n",
    "        layers.ReLU(),\n",
    "        layers.Dropout(0.4),\n",
    "    ])\n",
    "    \n",
    "\n",
    "    for _ in range(4):\n",
    "        model.add(SVDDenseLayer(1024))\n",
    "        model.add(layers.BatchNormalization())\n",
    "        model.add(layers.ReLU())\n",
    "        model.add(layers.Dropout(0.4))\n",
    "    \n",
    "    model.add(layers.Dense(10, activation='softmax'))\n",
    "    return model"
   ]
  },
  {
   "cell_type": "code",
   "execution_count": 39,
   "id": "c6ffbdee",
   "metadata": {},
   "outputs": [],
   "source": [
    "svd_model = create_svd_network()"
   ]
  },
  {
   "cell_type": "code",
   "execution_count": 40,
   "id": "69d88e4b",
   "metadata": {},
   "outputs": [],
   "source": [
    "@tf.function\n",
    "def train_step(model, x_batch, y_batch, optimizer):\n",
    "    with tf.GradientTape() as tape:\n",
    "        logits = model(x_batch, training=True)\n",
    "        loss = tf.reduce_mean(\n",
    "            tf.keras.losses.sparse_categorical_crossentropy(y_batch, logits)\n",
    "        )\n",
    "    \n",
    "    gradients = tape.gradient(loss, model.trainable_variables)\n",
    "    optimizer.apply_gradients(zip(gradients, model.trainable_variables))\n",
    "    return loss, logits"
   ]
  },
  {
   "cell_type": "code",
   "execution_count": 41,
   "id": "b7d2fb00",
   "metadata": {},
   "outputs": [],
   "source": [
    "def train_model(model, train_dataset, test_dataset, epochs=30):\n",
    "    optimizer = tf.keras.optimizers.Adam(learning_rate=0.0001)\n",
    "    \n",
    "    # history dictionary to store metrics\n",
    "    history = {\n",
    "        'loss': [],\n",
    "        'accuracy': [],\n",
    "        'val_accuracy': [],\n",
    "        'val_loss': []\n",
    "    }\n",
    "    \n",
    "    for epoch in range(epochs):\n",
    "        print(f\"\\nEpoch {epoch + 1}/{epochs}\")\n",
    "        \n",
    "        # metrics\n",
    "        epoch_loss = tf.keras.metrics.Mean()\n",
    "        epoch_accuracy = tf.keras.metrics.SparseCategoricalAccuracy()\n",
    "        \n",
    "        # SVD happens in layer's call method at every iteration\n",
    "        for step, (x_batch, y_batch) in enumerate(train_dataset):\n",
    "            loss, logits = train_step(model, x_batch, y_batch, optimizer)\n",
    "            epoch_loss.update_state(loss)\n",
    "            epoch_accuracy.update_state(y_batch, logits)\n",
    "            \n",
    "            if step % 50 == 0:\n",
    "                print(f\"Step {step}, \"\n",
    "                      f\"Loss: {epoch_loss.result():.4f}, \"\n",
    "                      f\"Accuracy: {epoch_accuracy.result():.4f}\", end='\\r')\n",
    "        \n",
    "        history['loss'].append(epoch_loss.result().numpy())\n",
    "        history['accuracy'].append(epoch_accuracy.result().numpy())\n",
    "        \n",
    "        # Validation phase\n",
    "        val_loss = tf.keras.metrics.Mean()\n",
    "        val_accuracy = tf.keras.metrics.SparseCategoricalAccuracy()\n",
    "        \n",
    "        for x_test, y_test in test_dataset:\n",
    "            val_logits = model(x_test, training=False)\n",
    "            val_loss.update_state(\n",
    "                tf.keras.losses.sparse_categorical_crossentropy(y_test, val_logits)\n",
    "            )\n",
    "            val_accuracy.update_state(y_test, val_logits)\n",
    "        \n",
    "        history['val_loss'].append(val_loss.result().numpy())\n",
    "        history['val_accuracy'].append(val_accuracy.result().numpy())\n",
    "        \n",
    "        print(f\"\\nEpoch {epoch + 1}: \"\n",
    "              f\"Loss: {epoch_loss.result():.4f}, \"\n",
    "              f\"Accuracy: {epoch_accuracy.result():.4f}, \"\n",
    "              f\"Val Loss: {val_loss.result():.4f}, \"\n",
    "              f\"Val Accuracy: {val_accuracy.result():.4f}\")\n",
    "        \n",
    "        # Early stopping\n",
    "        if val_accuracy.result() >= 0.97:\n",
    "            print(\"\\nReached target accuracy of 97%. Stopping training.\")\n",
    "            break\n",
    "    \n",
    "    return history"
   ]
  },
  {
   "cell_type": "markdown",
   "id": "f5ac4de3",
   "metadata": {},
   "source": [
    "### Test Accuracy"
   ]
  },
  {
   "cell_type": "code",
   "execution_count": 35,
   "id": "45e4291e",
   "metadata": {},
   "outputs": [
    {
     "name": "stdout",
     "output_type": "stream",
     "text": [
      "\n",
      "Epoch 1/30\n",
      "Step 450, Loss: 0.6988, Accuracy: 0.9375\n",
      "Epoch 1: Loss: 0.6978, Accuracy: 0.9377, Val Loss: 0.5373, Val Accuracy: 0.9481\n",
      "\n",
      "Epoch 2/30\n",
      "Step 450, Loss: 0.5186, Accuracy: 0.9445\n",
      "Epoch 2: Loss: 0.5152, Accuracy: 0.9447, Val Loss: 0.4158, Val Accuracy: 0.9525\n",
      "\n",
      "Epoch 3/30\n",
      "Step 450, Loss: 0.4011, Accuracy: 0.9493\n",
      "Epoch 3: Loss: 0.4012, Accuracy: 0.9494, Val Loss: 0.3350, Val Accuracy: 0.9550\n",
      "\n",
      "Epoch 4/30\n",
      "Step 450, Loss: 0.3244, Accuracy: 0.9515\n",
      "Epoch 4: Loss: 0.3242, Accuracy: 0.9515, Val Loss: 0.2756, Val Accuracy: 0.9575\n",
      "\n",
      "Epoch 5/30\n",
      "Step 450, Loss: 0.2697, Accuracy: 0.9525\n",
      "Epoch 5: Loss: 0.2686, Accuracy: 0.9526, Val Loss: 0.2289, Val Accuracy: 0.9591\n",
      "\n",
      "Epoch 6/30\n",
      "Step 450, Loss: 0.2244, Accuracy: 0.9541\r"
     ]
    },
    {
     "name": "stderr",
     "output_type": "stream",
     "text": [
      "2024-11-10 02:36:58.403298: I tensorflow/core/framework/local_rendezvous.cc:404] Local rendezvous is aborting with status: OUT_OF_RANGE: End of sequence\n"
     ]
    },
    {
     "name": "stdout",
     "output_type": "stream",
     "text": [
      "\n",
      "Epoch 6: Loss: 0.2224, Accuracy: 0.9545, Val Loss: 0.1959, Val Accuracy: 0.9600\n",
      "\n",
      "Epoch 7/30\n",
      "Step 450, Loss: 0.1894, Accuracy: 0.9564\n",
      "Epoch 7: Loss: 0.1884, Accuracy: 0.9567, Val Loss: 0.1717, Val Accuracy: 0.9610\n",
      "\n",
      "Epoch 8/30\n",
      "Step 450, Loss: 0.1726, Accuracy: 0.9569\n",
      "Epoch 8: Loss: 0.1719, Accuracy: 0.9568, Val Loss: 0.1547, Val Accuracy: 0.9619\n",
      "\n",
      "Epoch 9/30\n",
      "Step 450, Loss: 0.1564, Accuracy: 0.9573\n",
      "Epoch 9: Loss: 0.1561, Accuracy: 0.9574, Val Loss: 0.1424, Val Accuracy: 0.9632\n",
      "\n",
      "Epoch 10/30\n",
      "Step 450, Loss: 0.1464, Accuracy: 0.9584\n",
      "Epoch 10: Loss: 0.1463, Accuracy: 0.9585, Val Loss: 0.1340, Val Accuracy: 0.9642\n",
      "\n",
      "Epoch 11/30\n",
      "Step 450, Loss: 0.1380, Accuracy: 0.9593\n",
      "Epoch 11: Loss: 0.1380, Accuracy: 0.9593, Val Loss: 0.1283, Val Accuracy: 0.9647\n",
      "\n",
      "Epoch 12/30\n",
      "Step 450, Loss: 0.1331, Accuracy: 0.9604\n",
      "Epoch 12: Loss: 0.1319, Accuracy: 0.9608, Val Loss: 0.1237, Val Accuracy: 0.9656\n",
      "\n",
      "Epoch 13/30\n",
      "Step 450, Loss: 0.1271, Accuracy: 0.9611\n",
      "Epoch 13: Loss: 0.1269, Accuracy: 0.9613, Val Loss: 0.1198, Val Accuracy: 0.9660\n",
      "\n",
      "Epoch 14/30\n",
      "Step 450, Loss: 0.1242, Accuracy: 0.9613\n",
      "Epoch 14: Loss: 0.1242, Accuracy: 0.9614, Val Loss: 0.1164, Val Accuracy: 0.9664\n",
      "\n",
      "Epoch 15/30\n",
      "Step 450, Loss: 0.1208, Accuracy: 0.9619\n",
      "Epoch 15: Loss: 0.1210, Accuracy: 0.9620, Val Loss: 0.1141, Val Accuracy: 0.9670\n",
      "\n",
      "Epoch 16/30\n",
      "Step 450, Loss: 0.1182, Accuracy: 0.9633\n",
      "Epoch 16: Loss: 0.1180, Accuracy: 0.9634, Val Loss: 0.1119, Val Accuracy: 0.9679\n",
      "\n",
      "Epoch 17/30\n",
      "Step 450, Loss: 0.1184, Accuracy: 0.9633\n",
      "Epoch 17: Loss: 0.1181, Accuracy: 0.9633, Val Loss: 0.1100, Val Accuracy: 0.9677\n",
      "\n",
      "Epoch 18/30\n",
      "Step 450, Loss: 0.1148, Accuracy: 0.9632\n",
      "Epoch 18: Loss: 0.1149, Accuracy: 0.9631, Val Loss: 0.1081, Val Accuracy: 0.9678\n",
      "\n",
      "Epoch 19/30\n",
      "Step 450, Loss: 0.1127, Accuracy: 0.9639\n",
      "Epoch 19: Loss: 0.1124, Accuracy: 0.9641, Val Loss: 0.1067, Val Accuracy: 0.9682\n",
      "\n",
      "Epoch 20/30\n",
      "Step 450, Loss: 0.1099, Accuracy: 0.9650\n",
      "Epoch 20: Loss: 0.1091, Accuracy: 0.9653, Val Loss: 0.1051, Val Accuracy: 0.9685\n",
      "\n",
      "Epoch 21/30\n",
      "Step 450, Loss: 0.1097, Accuracy: 0.9640\n",
      "Epoch 21: Loss: 0.1089, Accuracy: 0.9645, Val Loss: 0.1040, Val Accuracy: 0.9692\n",
      "\n",
      "Epoch 22/30\n",
      "Step 450, Loss: 0.1081, Accuracy: 0.9648\n",
      "Epoch 22: Loss: 0.1079, Accuracy: 0.9648, Val Loss: 0.1027, Val Accuracy: 0.9693\n",
      "\n",
      "Epoch 23/30\n",
      "Step 450, Loss: 0.1065, Accuracy: 0.9651\n",
      "Epoch 23: Loss: 0.1068, Accuracy: 0.9650, Val Loss: 0.1019, Val Accuracy: 0.9694\n",
      "\n",
      "Epoch 24/30\n",
      "Step 450, Loss: 0.1036, Accuracy: 0.9667\n",
      "Epoch 24: Loss: 0.1032, Accuracy: 0.9669, Val Loss: 0.1006, Val Accuracy: 0.9692\n",
      "\n",
      "Epoch 25/30\n",
      "Step 450, Loss: 0.1024, Accuracy: 0.9669\n",
      "Epoch 25: Loss: 0.1024, Accuracy: 0.9668, Val Loss: 0.1003, Val Accuracy: 0.9691\n",
      "\n",
      "Epoch 26/30\n",
      "Step 450, Loss: 0.1008, Accuracy: 0.9673\n",
      "Epoch 26: Loss: 0.1006, Accuracy: 0.9674, Val Loss: 0.0995, Val Accuracy: 0.9691\n",
      "\n",
      "Epoch 27/30\n",
      "Step 450, Loss: 0.1005, Accuracy: 0.9675\n",
      "Epoch 27: Loss: 0.1001, Accuracy: 0.9675, Val Loss: 0.0980, Val Accuracy: 0.9696\n",
      "\n",
      "Epoch 28/30\n",
      "Step 450, Loss: 0.0988, Accuracy: 0.9685\n",
      "Epoch 28: Loss: 0.0987, Accuracy: 0.9685, Val Loss: 0.0976, Val Accuracy: 0.9697\n",
      "\n",
      "Epoch 29/30\n",
      "Step 450, Loss: 0.0991, Accuracy: 0.9687\n",
      "Epoch 29: Loss: 0.0984, Accuracy: 0.9689, Val Loss: 0.0972, Val Accuracy: 0.9701\n",
      "\n",
      "Reached target accuracy of 97%. Stopping training.\n"
     ]
    }
   ],
   "source": [
    "train_dataset = tf.data.Dataset.from_tensor_slices(\n",
    "    (train_images, train_labels)\n",
    ").shuffle(10000).batch(32).prefetch(tf.data.AUTOTUNE)\n",
    "\n",
    "test_dataset = tf.data.Dataset.from_tensor_slices(\n",
    "    (test_images, test_labels)\n",
    ").batch(32).prefetch(tf.data.AUTOTUNE)\n",
    "\n",
    "initialize_from_baseline(mnist_baseline, svd_model)\n",
    "\n",
    "# Train\n",
    "history = train_model(svd_model, train_dataset, test_dataset)"
   ]
  },
  {
   "cell_type": "code",
   "execution_count": 36,
   "id": "46e6af02",
   "metadata": {},
   "outputs": [
    {
     "data": {
      "image/png": "[encoded data removed]",
      "text/plain": [
       "<Figure size 864x288 with 2 Axes>"
      ]
     },
     "metadata": {
      "needs_background": "light"
     },
     "output_type": "display_data"
    }
   ],
   "source": [
    "def plot_history(history):\n",
    "    plt.figure(figsize=(12, 4))\n",
    "    \n",
    "    # accuracy\n",
    "    plt.subplot(1, 2, 1)\n",
    "    plt.plot(history['accuracy'], label='Training Accuracy')\n",
    "    plt.plot(history['val_accuracy'], label='Validation Accuracy')\n",
    "    plt.title('Model Accuracy')\n",
    "    plt.xlabel('Epoch')\n",
    "    plt.ylabel('Accuracy')\n",
    "    plt.legend()\n",
    "    plt.grid(True)\n",
    "    \n",
    "    # loss\n",
    "    plt.subplot(1, 2, 2)\n",
    "    plt.plot(history['loss'], label='Training Loss')\n",
    "    plt.plot(history['val_loss'], label='Validation Loss')\n",
    "    plt.title('Model Loss')\n",
    "    plt.xlabel('Epoch')\n",
    "    plt.ylabel('Loss')\n",
    "    plt.legend()\n",
    "    plt.grid(True)\n",
    "    \n",
    "    plt.tight_layout()\n",
    "    plt.show()\n",
    "    \n",
    "plot_history(history)"
   ]
  }
 ],
 "metadata": {
  "kernelspec": {
   "display_name": "Python 3 (ipykernel)",
   "language": "python",
   "name": "python3"
  },
  "language_info": {
   "codemirror_mode": {
    "name": "ipython",
    "version": 3
   },
   "file_extension": ".py",
   "mimetype": "text/x-python",
   "name": "python",
   "nbconvert_exporter": "python",
   "pygments_lexer": "ipython3",
   "version": "3.10.12"
  }
 },
 "nbformat": 4,
 "nbformat_minor": 5
}
